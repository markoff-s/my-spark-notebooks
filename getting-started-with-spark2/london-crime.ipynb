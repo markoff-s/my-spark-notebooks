{
 "cells": [
  {
   "cell_type": "code",
   "execution_count": 67,
   "metadata": {},
   "outputs": [],
   "source": [
    "from pyspark.sql import SparkSession\n",
    "\n",
    "spark = SparkSession \\\n",
    "        .builder \\\n",
    "        .appName(\"London Crime\") \\\n",
    "        .config(\"spark.some.config.option\", \"some-value\") \\\n",
    "        .getOrCreate()\n",
    "\n",
    "data = spark.read\\\n",
    "            .format(\"csv\")\\\n",
    "            .option(\"header\", \"true\")\\\n",
    "            .load(\"datasets/london_crime_by_lsoa.csv\")   \n"
   ]
  },
  {
   "cell_type": "code",
   "execution_count": 2,
   "metadata": {},
   "outputs": [
    {
     "name": "stdout",
     "output_type": "stream",
     "text": [
      "root\n",
      " |-- lsoa_code: string (nullable = true)\n",
      " |-- borough: string (nullable = true)\n",
      " |-- major_category: string (nullable = true)\n",
      " |-- minor_category: string (nullable = true)\n",
      " |-- value: string (nullable = true)\n",
      " |-- year: string (nullable = true)\n",
      " |-- month: string (nullable = true)\n",
      "\n"
     ]
    }
   ],
   "source": [
    "data.printSchema()"
   ]
  },
  {
   "cell_type": "code",
   "execution_count": 3,
   "metadata": {},
   "outputs": [
    {
     "data": {
      "text/plain": [
       "13490604"
      ]
     },
     "execution_count": 3,
     "metadata": {},
     "output_type": "execute_result"
    }
   ],
   "source": [
    "data.count()"
   ]
  },
  {
   "cell_type": "code",
   "execution_count": 9,
   "metadata": {},
   "outputs": [
    {
     "name": "stdout",
     "output_type": "stream",
     "text": [
      "+---------+----------+--------------------+--------------------+-----+----+-----+\n",
      "|lsoa_code|   borough|      major_category|      minor_category|value|year|month|\n",
      "+---------+----------+--------------------+--------------------+-----+----+-----+\n",
      "|E01001116|   Croydon|            Burglary|Burglary in Other...|    0|2016|   11|\n",
      "|E01001646| Greenwich|Violence Against ...|      Other violence|    0|2016|   11|\n",
      "|E01000677|   Bromley|Violence Against ...|      Other violence|    0|2015|    5|\n",
      "|E01003774| Redbridge|            Burglary|Burglary in Other...|    0|2016|    3|\n",
      "|E01004563|Wandsworth|             Robbery|   Personal Property|    0|2008|    6|\n",
      "+---------+----------+--------------------+--------------------+-----+----+-----+\n",
      "\n"
     ]
    }
   ],
   "source": [
    "data.limit(5).show()"
   ]
  },
  {
   "cell_type": "code",
   "execution_count": 10,
   "metadata": {},
   "outputs": [
    {
     "data": {
      "text/plain": [
       "13490604"
      ]
     },
     "execution_count": 10,
     "metadata": {},
     "output_type": "execute_result"
    }
   ],
   "source": [
    "data.dropna().count()"
   ]
  },
  {
   "cell_type": "code",
   "execution_count": 12,
   "metadata": {},
   "outputs": [
    {
     "name": "stdout",
     "output_type": "stream",
     "text": [
      "+---------+--------------------+--------------------+--------------------+-----+----+-----+\n",
      "|lsoa_code|             borough|      major_category|      minor_category|value|year|month|\n",
      "+---------+--------------------+--------------------+--------------------+-----+----+-----+\n",
      "|E01001116|             Croydon|            Burglary|Burglary in Other...|    0|2016|   11|\n",
      "|E01001646|           Greenwich|Violence Against ...|      Other violence|    0|2016|   11|\n",
      "|E01000677|             Bromley|Violence Against ...|      Other violence|    0|2015|    5|\n",
      "|E01003774|           Redbridge|            Burglary|Burglary in Other...|    0|2016|    3|\n",
      "|E01004563|          Wandsworth|             Robbery|   Personal Property|    0|2008|    6|\n",
      "|E01001320|              Ealing|  Theft and Handling|         Other Theft|    0|2012|    5|\n",
      "|E01001342|              Ealing|Violence Against ...|    Offensive Weapon|    0|2010|    7|\n",
      "|E01002633|            Hounslow|             Robbery|   Personal Property|    0|2013|    4|\n",
      "|E01003496|              Newham|     Criminal Damage|Criminal Damage T...|    0|2013|    9|\n",
      "|E01004177|              Sutton|  Theft and Handling|Theft/Taking of P...|    1|2016|    8|\n",
      "|E01001985|            Haringey|  Theft and Handling|Motor Vehicle Int...|    0|2013|   12|\n",
      "|E01003076|             Lambeth|Violence Against ...|      Other violence|    0|2015|    4|\n",
      "|E01003852|Richmond upon Thames|             Robbery|   Personal Property|    0|2014|    1|\n",
      "|E01004547|          Wandsworth|Violence Against ...|    Offensive Weapon|    0|2011|   10|\n",
      "|E01002398|          Hillingdon|  Theft and Handling|Theft/Taking Of M...|    0|2016|    2|\n",
      "|E01002358|            Havering|Violence Against ...|        Wounding/GBH|    0|2012|    2|\n",
      "|E01000086|Barking and Dagenham|  Theft and Handling|  Other Theft Person|    1|2009|    5|\n",
      "|E01003708|           Redbridge|Violence Against ...|      Common Assault|    0|2009|    6|\n",
      "|E01002945|Kingston upon Thames|  Theft and Handling|    Theft From Shops|    0|2016|   11|\n",
      "|E01004195|              Sutton|               Drugs| Possession Of Drugs|    0|2009|   10|\n",
      "+---------+--------------------+--------------------+--------------------+-----+----+-----+\n",
      "only showing top 20 rows\n",
      "\n"
     ]
    }
   ],
   "source": [
    "data.show()"
   ]
  },
  {
   "cell_type": "code",
   "execution_count": 22,
   "metadata": {},
   "outputs": [
    {
     "name": "stdout",
     "output_type": "stream",
     "text": [
      "+---------+--------------------+---------------+--------------+-----+----+-----+\n",
      "|lsoa_code|             borough| major_category|minor_category|value|year|month|\n",
      "+---------+--------------------+---------------+--------------+-----+----+-----+\n",
      "|E01002740|           Islington|Sexual Offences|  Other Sexual|    0|2016|   10|\n",
      "|E01000562|               Brent|Sexual Offences|          Rape|    0|2012|   12|\n",
      "|E01001646|           Greenwich|Sexual Offences|          Rape|    0|2013|    5|\n",
      "|E01003120|             Lambeth|Sexual Offences|          Rape|    0|2014|    3|\n",
      "|E01004757|         Westminster|Sexual Offences|  Other Sexual|    0|2012|    7|\n",
      "|E01004740|         Westminster|Sexual Offences|          Rape|    0|2010|   10|\n",
      "|E01002782|           Islington|Sexual Offences|  Other Sexual|    0|2010|    9|\n",
      "|E01003631|              Newham|Sexual Offences|          Rape|    0|2015|    5|\n",
      "|E01004552|          Wandsworth|Sexual Offences|  Other Sexual|    0|2015|   12|\n",
      "|E01003404|              Merton|Sexual Offences|  Other Sexual|    0|2015|    1|\n",
      "|E01002878|Kensington and Ch...|Sexual Offences|  Other Sexual|    0|2009|    5|\n",
      "|E01003532|              Newham|Sexual Offences|          Rape|    0|2012|    1|\n",
      "|E01004650|         Westminster|Sexual Offences|  Other Sexual|    0|2015|   11|\n",
      "|E01001922|Hammersmith and F...|Sexual Offences|  Other Sexual|    0|2012|    2|\n",
      "|E01004552|          Wandsworth|Sexual Offences|  Other Sexual|    0|2010|   11|\n",
      "|E01003974|           Southwark|Sexual Offences|  Other Sexual|    0|2016|    4|\n",
      "|E01001876|Hammersmith and F...|Sexual Offences|  Other Sexual|    0|2010|    3|\n",
      "|E01002526|          Hillingdon|Sexual Offences|  Other Sexual|    0|2012|   11|\n",
      "|E01003811|Richmond upon Thames|Sexual Offences|  Other Sexual|    0|2008|    5|\n",
      "|E01003366|              Merton|Sexual Offences|  Other Sexual|    0|2008|   11|\n",
      "+---------+--------------------+---------------+--------------+-----+----+-----+\n",
      "only showing top 20 rows\n",
      "\n"
     ]
    }
   ],
   "source": [
    "data.where(data.major_category.contains(\"Sex\"))\\\n",
    "    .show()"
   ]
  },
  {
   "cell_type": "code",
   "execution_count": 23,
   "metadata": {},
   "outputs": [
    {
     "name": "stdout",
     "output_type": "stream",
     "text": [
      "+----------+--------------------+--------------------+-----+----+-----+\n",
      "|   borough|      major_category|      minor_category|value|year|month|\n",
      "+----------+--------------------+--------------------+-----+----+-----+\n",
      "|   Croydon|            Burglary|Burglary in Other...|    0|2016|   11|\n",
      "| Greenwich|Violence Against ...|      Other violence|    0|2016|   11|\n",
      "|   Bromley|Violence Against ...|      Other violence|    0|2015|    5|\n",
      "| Redbridge|            Burglary|Burglary in Other...|    0|2016|    3|\n",
      "|Wandsworth|             Robbery|   Personal Property|    0|2008|    6|\n",
      "+----------+--------------------+--------------------+-----+----+-----+\n",
      "only showing top 5 rows\n",
      "\n"
     ]
    }
   ],
   "source": [
    "slim_data = data.drop(\"lsoa_code\")\n",
    "\n",
    "slim_data.show(5)"
   ]
  },
  {
   "cell_type": "code",
   "execution_count": 28,
   "metadata": {},
   "outputs": [
    {
     "data": {
      "text/plain": [
       "33"
      ]
     },
     "execution_count": 28,
     "metadata": {},
     "output_type": "execute_result"
    }
   ],
   "source": [
    "boroughs = data.select(\"borough\")\\\n",
    "                .distinct()\\\n",
    "                .count()\n",
    "boroughs\n"
   ]
  },
  {
   "cell_type": "code",
   "execution_count": 33,
   "metadata": {},
   "outputs": [
    {
     "name": "stdout",
     "output_type": "stream",
     "text": [
      "Total count = 24024\n",
      "+---------+--------------------+---------------+--------------+-----+----+-----+\n",
      "|lsoa_code|             borough| major_category|minor_category|value|year|month|\n",
      "+---------+--------------------+---------------+--------------+-----+----+-----+\n",
      "|E01004650|         Westminster|Sexual Offences|  Other Sexual|    0|2015|   11|\n",
      "|E01003934|           Southwark|Sexual Offences|  Other Sexual|    0|2015|    3|\n",
      "|E01001953|Hammersmith and F...|Sexual Offences|  Other Sexual|    0|2016|    8|\n",
      "|E01002358|            Havering|Sexual Offences|  Other Sexual|    0|2015|    1|\n",
      "|E01001481|             Enfield|Sexual Offences|  Other Sexual|    0|2015|    5|\n",
      "|E01001235|              Ealing|Sexual Offences|  Other Sexual|    0|2016|    4|\n",
      "|E01001495|             Enfield|Sexual Offences|  Other Sexual|    0|2015|    3|\n",
      "|E01001650|           Greenwich|Sexual Offences|  Other Sexual|    0|2016|   10|\n",
      "|E01002397|          Hillingdon|Sexual Offences|  Other Sexual|    0|2016|    6|\n",
      "|E01002274|            Havering|Sexual Offences|  Other Sexual|    0|2016|    2|\n",
      "|E01001912|Hammersmith and F...|Sexual Offences|          Rape|    0|2016|   12|\n",
      "|E01003490|              Newham|Sexual Offences|  Other Sexual|    0|2015|   11|\n",
      "|E01002614|            Hounslow|Sexual Offences|  Other Sexual|    0|2015|    5|\n",
      "|E01002794|           Islington|Sexual Offences|  Other Sexual|    0|2016|    9|\n",
      "|E01004525|          Wandsworth|Sexual Offences|  Other Sexual|    0|2015|   10|\n",
      "|E01002820|Kensington and Ch...|Sexual Offences|  Other Sexual|    0|2016|    1|\n",
      "|E01003556|              Newham|Sexual Offences|  Other Sexual|    0|2016|   10|\n",
      "|E01002219|              Harrow|Sexual Offences|          Rape|    0|2015|    4|\n",
      "|E01003569|              Newham|Sexual Offences|  Other Sexual|    0|2016|    3|\n",
      "|E01001495|             Enfield|Sexual Offences|  Other Sexual|    0|2015|    8|\n",
      "+---------+--------------------+---------------+--------------+-----+----+-----+\n",
      "only showing top 20 rows\n",
      "\n"
     ]
    }
   ],
   "source": [
    "sex_in_2015_2016 = data\\\n",
    "                    .where(data.major_category.contains(\"Sex\") & data.year.isin(2015, 2016))\n",
    "\n",
    "print(f\"Total count = {sex_in_2015_2016.count()}\")\n",
    "sex_in_2015_2016.sample(fraction=0.1).show()\n"
   ]
  },
  {
   "cell_type": "code",
   "execution_count": 45,
   "metadata": {},
   "outputs": [
    {
     "name": "stdout",
     "output_type": "stream",
     "text": [
      "+-------+------+\n",
      "|borough| count|\n",
      "+-------+------+\n",
      "|Croydon|602100|\n",
      "| Barnet|572832|\n",
      "| Ealing|549396|\n",
      "|Bromley|523908|\n",
      "|Lambeth|519048|\n",
      "+-------+------+\n",
      "only showing top 5 rows\n",
      "\n",
      "+--------------------+------+\n",
      "|             borough| count|\n",
      "+--------------------+------+\n",
      "|      City of London|  9720|\n",
      "|Kingston upon Thames|259524|\n",
      "|Kensington and Ch...|296784|\n",
      "|Richmond upon Thames|304128|\n",
      "|Barking and Dagenham|311040|\n",
      "+--------------------+------+\n",
      "only showing top 5 rows\n",
      "\n"
     ]
    }
   ],
   "source": [
    "crimes_per_borough = data.groupBy(\"borough\").count().orderBy(\"count\", ascending=False)\n",
    "crimes_per_borough.show(5)\n",
    "\n",
    "crimes_per_borough = crimes_per_borough.orderBy(\"count\", ascending=True)\n",
    "crimes_per_borough.show(5)\n",
    "                            "
   ]
  },
  {
   "cell_type": "code",
   "execution_count": 48,
   "metadata": {},
   "outputs": [
    {
     "name": "stdout",
     "output_type": "stream",
     "text": [
      "+--------------------+-----------+\n",
      "|             borough|convictions|\n",
      "+--------------------+-----------+\n",
      "|             Croydon|   260294.0|\n",
      "|          Wandsworth|   204741.0|\n",
      "|              Bexley|   114136.0|\n",
      "|             Lambeth|   292178.0|\n",
      "|Barking and Dagenham|   149447.0|\n",
      "+--------------------+-----------+\n",
      "only showing top 5 rows\n",
      "\n"
     ]
    }
   ],
   "source": [
    "borough_conviction_sum_per_borough = data.groupBy(\"borough\")\\\n",
    "                                .agg({\"value\": \"sum\"})\\\n",
    "                                .withColumnRenamed(\"sum(value)\", \"convictions\")\n",
    "\n",
    "borough_conviction_sum_per_borough.show(5)"
   ]
  },
  {
   "cell_type": "code",
   "execution_count": 52,
   "metadata": {},
   "outputs": [
    {
     "name": "stdout",
     "output_type": "stream",
     "text": [
      "+---------+\n",
      "|    Total|\n",
      "+---------+\n",
      "|6447758.0|\n",
      "+---------+\n",
      "\n",
      "Total convictions = 6447758.0\n"
     ]
    }
   ],
   "source": [
    "total_convictions = borough_conviction_sum_per_borough.agg({\"convictions\": \"sum\"})\\\n",
    "                                                        .withColumnRenamed(\"sum(convictions)\", \"Total\")\n",
    "total_convictions.show()\n",
    "\n",
    "total = total_convictions.collect()[0][0]\n",
    "print(f\"Total convictions = {total}\")\n",
    "\n"
   ]
  },
  {
   "cell_type": "code",
   "execution_count": 63,
   "metadata": {},
   "outputs": [
    {
     "name": "stdout",
     "output_type": "stream",
     "text": [
      "+-----------+-----------+-------------+\n",
      "|    borough|convictions|% contibution|\n",
      "+-----------+-----------+-------------+\n",
      "|Westminster|   455028.0|         7.06|\n",
      "|    Lambeth|   292178.0|         4.53|\n",
      "|  Southwark|   278809.0|         4.32|\n",
      "|     Camden|   275147.0|         4.27|\n",
      "|     Newham|   262024.0|         4.06|\n",
      "+-----------+-----------+-------------+\n",
      "only showing top 5 rows\n",
      "\n"
     ]
    }
   ],
   "source": [
    "import pyspark.sql.functions as func\n",
    "\n",
    "borough_contribution_pct = borough_conviction_sum_per_borough.withColumn(\n",
    "                                \"% contibution\",\n",
    "                                func.round(borough_conviction_sum_per_borough.convictions / total * 100, 2))\\\n",
    "                                .orderBy(borough_contribution_pct.convictions.desc())\\\n",
    "                                .orderBy(borough_contribution_pct[0].asc())\\\n",
    "                                .orderBy(\"% contibution\", ascending=False)\n",
    "\n",
    "borough_contribution_pct.show(5)"
   ]
  },
  {
   "cell_type": "code",
   "execution_count": 75,
   "metadata": {},
   "outputs": [
    {
     "name": "stdout",
     "output_type": "stream",
     "text": [
      "+-----+-------------------+\n",
      "|month|monthly_convictions|\n",
      "+-----+-------------------+\n",
      "|   10|            60537.0|\n",
      "|   11|            59704.0|\n",
      "|    7|            58564.0|\n",
      "|    3|            57669.0|\n",
      "|   12|            57565.0|\n",
      "|    6|            57039.0|\n",
      "|    9|            56933.0|\n",
      "|    5|            56327.0|\n",
      "|    8|            55641.0|\n",
      "|    1|            55515.0|\n",
      "|    4|            53467.0|\n",
      "|    2|            51222.0|\n",
      "+-----+-------------------+\n",
      "\n"
     ]
    }
   ],
   "source": [
    "convictions_by_month_in_2014 = data.where(data.year == 2014)\\\n",
    "                                    .groupBy(\"month\")\\\n",
    "                                    .agg({\"value\": \"sum\"})\\\n",
    "                                    .withColumnRenamed(\"sum(value)\", \"monthly_convictions\")\\\n",
    "                                    \n",
    "\n",
    "convictions_by_month_in_2014.orderBy(convictions_by_month_in_2014.monthly_convictions.desc())\\\n",
    "                            .show()\n",
    "\n",
    "\n"
   ]
  },
  {
   "cell_type": "code",
   "execution_count": null,
   "metadata": {},
   "outputs": [],
   "source": []
  },
  {
   "cell_type": "code",
   "execution_count": null,
   "metadata": {},
   "outputs": [],
   "source": []
  },
  {
   "cell_type": "code",
   "execution_count": null,
   "metadata": {},
   "outputs": [],
   "source": []
  },
  {
   "cell_type": "code",
   "execution_count": null,
   "metadata": {},
   "outputs": [],
   "source": []
  },
  {
   "cell_type": "code",
   "execution_count": null,
   "metadata": {},
   "outputs": [],
   "source": []
  }
 ],
 "metadata": {
  "kernelspec": {
   "display_name": "Python 3",
   "language": "python",
   "name": "python3"
  },
  "language_info": {
   "codemirror_mode": {
    "name": "ipython",
    "version": 3
   },
   "file_extension": ".py",
   "mimetype": "text/x-python",
   "name": "python",
   "nbconvert_exporter": "python",
   "pygments_lexer": "ipython3",
   "version": "3.7.4"
  }
 },
 "nbformat": 4,
 "nbformat_minor": 4
}
