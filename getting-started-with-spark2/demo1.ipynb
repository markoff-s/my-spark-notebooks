{
 "cells": [
  {
   "cell_type": "code",
   "execution_count": 1,
   "metadata": {},
   "outputs": [
    {
     "name": "stdout",
     "output_type": "stream",
     "text": [
      "+---+\n",
      "| id|\n",
      "+---+\n",
      "|  0|\n",
      "|  1|\n",
      "|  2|\n",
      "|  3|\n",
      "|  4|\n",
      "+---+\n",
      "\n"
     ]
    }
   ],
   "source": [
    "rng = sqlContext.range(5)\n",
    "rng.show()"
   ]
  },
  {
   "cell_type": "code",
   "execution_count": 18,
   "metadata": {},
   "outputs": [
    {
     "name": "stdout",
     "output_type": "stream",
     "text": [
      "+-----+-----+---------+--------------------+-----+-------------------+\n",
      "| Name|Score|     List|                Dict| Bool|           Datetime|\n",
      "+-----+-----+---------+--------------------+-----+-------------------+\n",
      "|Alice|   20|[1, 2, 3]|[xz2 -> 2, xz1 -> 1]| true|2020-02-01 22:10:12|\n",
      "|  Bob|   30|[1, 2, 3]|[xz2 -> 2, xz1 -> 1]|false|2020-02-02 13:33:44|\n",
      "+-----+-----+---------+--------------------+-----+-------------------+\n",
      "\n"
     ]
    }
   ],
   "source": [
    "from datetime import datetime\n",
    "\n",
    "data = [\n",
    "        (\"Alice\", 20, [1, 2, 3], {\"xz1\": 1, \"xz2\": 2}, True, datetime(2020, 2, 1, 22, 10, 12)), \n",
    "        (\"Bob\", 30, [1, 2, 3], {\"xz1\": 1, \"xz2\": 2}, False, datetime(2020, 2, 2, 13, 33, 44))]\n",
    "df = sqlContext.createDataFrame(data, [\"Name\", \"Score\", \"List\", \"Dict\", \"Bool\", \"Datetime\"])\n",
    "df.show()"
   ]
  },
  {
   "cell_type": "code",
   "execution_count": 23,
   "metadata": {},
   "outputs": [
    {
     "data": {
      "text/plain": [
       "20"
      ]
     },
     "execution_count": 23,
     "metadata": {},
     "output_type": "execute_result"
    }
   ],
   "source": [
    "alice_score = df.collect()[0][1]\n",
    "alice_score"
   ]
  },
  {
   "cell_type": "code",
   "execution_count": 28,
   "metadata": {},
   "outputs": [
    {
     "name": "stdout",
     "output_type": "stream",
     "text": [
      "[1, 2, 3, 100]\n",
      "+-----+-----+---------+--------------------+-----+-------------------+\n",
      "| Name|Score|     List|                Dict| Bool|           Datetime|\n",
      "+-----+-----+---------+--------------------+-----+-------------------+\n",
      "|Alice|   20|[1, 2, 3]|[xz2 -> 2, xz1 -> 1]| true|2020-02-01 22:10:12|\n",
      "|  Bob|   30|[1, 2, 3]|[xz2 -> 2, xz1 -> 1]|false|2020-02-02 13:33:44|\n",
      "+-----+-----+---------+--------------------+-----+-------------------+\n",
      "\n"
     ]
    }
   ],
   "source": [
    "from pprint import pprint\n",
    "\n",
    "lst = df.collect()[0][2]\n",
    "lst.append(100)\n",
    "pprint(lst)\n",
    "df.show()"
   ]
  },
  {
   "cell_type": "code",
   "execution_count": 48,
   "metadata": {},
   "outputs": [
    {
     "name": "stdout",
     "output_type": "stream",
     "text": [
      "[('Alice', datetime.datetime(2020, 2, 1, 22, 10, 12)),\n",
      " ('Bob', datetime.datetime(2020, 2, 2, 13, 33, 44))]\n"
     ]
    }
   ],
   "source": [
    "rdd = df.rdd\\\n",
    "        .map(lambda _: (_.Name, _.Datetime))\\\n",
    "        .collect()\n",
    "\n",
    "pprint(rdd)"
   ]
  },
  {
   "cell_type": "code",
   "execution_count": 54,
   "metadata": {},
   "outputs": [
    {
     "name": "stdout",
     "output_type": "stream",
     "text": [
      "+-----+---------+\n",
      "| Name|     List|\n",
      "+-----+---------+\n",
      "|Alice|[1, 2, 3]|\n",
      "+-----+---------+\n",
      "\n"
     ]
    }
   ],
   "source": [
    "cols = df\\\n",
    "        .select(\"Name\", \"List\")\\\n",
    "        .where(df.Score < 30)\\\n",
    "        .show()"
   ]
  },
  {
   "cell_type": "code",
   "execution_count": 66,
   "metadata": {},
   "outputs": [
    {
     "data": {
      "text/plain": [
       "['Alice xz!', 'Bob xz!']"
      ]
     },
     "execution_count": 66,
     "metadata": {},
     "output_type": "execute_result"
    }
   ],
   "source": [
    "df.rdd\\\n",
    "    .map(lambda _: (_.Name + \" xz!\"))\\\n",
    "    .collect()\n"
   ]
  },
  {
   "cell_type": "code",
   "execution_count": 71,
   "metadata": {},
   "outputs": [
    {
     "name": "stdout",
     "output_type": "stream",
     "text": [
      "+-----+-----+---------+\n",
      "| Name|Score|New Score|\n",
      "+-----+-----+---------+\n",
      "|Alice|   20|      120|\n",
      "|  Bob|   30|      130|\n",
      "+-----+-----+---------+\n",
      "\n"
     ]
    }
   ],
   "source": [
    "df.select(\"Name\", \"Score\")\\\n",
    "    .withColumn(\"New Score\",\n",
    "               (df.Score + 100))\\\n",
    "    .show()"
   ]
  },
  {
   "cell_type": "code",
   "execution_count": 74,
   "metadata": {},
   "outputs": [
    {
     "name": "stdout",
     "output_type": "stream",
     "text": [
      "+------------+-----+---------+--------------------+-----+-------------------+\n",
      "|Renamed Name|Score|     List|                Dict| Bool|           Datetime|\n",
      "+------------+-----+---------+--------------------+-----+-------------------+\n",
      "|       Alice|   20|[1, 2, 3]|[xz2 -> 2, xz1 -> 1]| true|2020-02-01 22:10:12|\n",
      "|         Bob|   30|[1, 2, 3]|[xz2 -> 2, xz1 -> 1]|false|2020-02-02 13:33:44|\n",
      "+------------+-----+---------+--------------------+-----+-------------------+\n",
      "\n"
     ]
    }
   ],
   "source": [
    "df\\\n",
    "    .withColumnRenamed(\"Name\", \"Renamed Name\")\\\n",
    "    .show()"
   ]
  },
  {
   "cell_type": "code",
   "execution_count": 76,
   "metadata": {},
   "outputs": [
    {
     "name": "stdout",
     "output_type": "stream",
     "text": [
      "+-----+-----+---------+--------------------+-----+-------------------+\n",
      "| Name|Score|     List|                Dict| Bool|           Datetime|\n",
      "+-----+-----+---------+--------------------+-----+-------------------+\n",
      "|Alice|   20|[1, 2, 3]|[xz2 -> 2, xz1 -> 1]| true|2020-02-01 22:10:12|\n",
      "|  Bob|   30|[1, 2, 3]|[xz2 -> 2, xz1 -> 1]|false|2020-02-02 13:33:44|\n",
      "+-----+-----+---------+--------------------+-----+-------------------+\n",
      "\n"
     ]
    }
   ],
   "source": [
    "df.show()"
   ]
  },
  {
   "cell_type": "code",
   "execution_count": 77,
   "metadata": {},
   "outputs": [
    {
     "name": "stdout",
     "output_type": "stream",
     "text": [
      "+-----------+\n",
      "|Score_Alias|\n",
      "+-----------+\n",
      "|         20|\n",
      "|         30|\n",
      "+-----------+\n",
      "\n"
     ]
    }
   ],
   "source": [
    "df\\\n",
    "    .select(df.Score.alias(\"Score_Alias\"))\\\n",
    "    .show()"
   ]
  },
  {
   "cell_type": "code",
   "execution_count": 79,
   "metadata": {},
   "outputs": [
    {
     "data": {
      "text/html": [
       "<div>\n",
       "<style scoped>\n",
       "    .dataframe tbody tr th:only-of-type {\n",
       "        vertical-align: middle;\n",
       "    }\n",
       "\n",
       "    .dataframe tbody tr th {\n",
       "        vertical-align: top;\n",
       "    }\n",
       "\n",
       "    .dataframe thead th {\n",
       "        text-align: right;\n",
       "    }\n",
       "</style>\n",
       "<table border=\"1\" class=\"dataframe\">\n",
       "  <thead>\n",
       "    <tr style=\"text-align: right;\">\n",
       "      <th></th>\n",
       "      <th>Name</th>\n",
       "      <th>Score</th>\n",
       "      <th>List</th>\n",
       "      <th>Dict</th>\n",
       "      <th>Bool</th>\n",
       "      <th>Datetime</th>\n",
       "    </tr>\n",
       "  </thead>\n",
       "  <tbody>\n",
       "    <tr>\n",
       "      <th>0</th>\n",
       "      <td>Alice</td>\n",
       "      <td>20</td>\n",
       "      <td>[1, 2, 3]</td>\n",
       "      <td>{'xz2': 2, 'xz1': 1}</td>\n",
       "      <td>True</td>\n",
       "      <td>2020-02-01 22:10:12</td>\n",
       "    </tr>\n",
       "    <tr>\n",
       "      <th>1</th>\n",
       "      <td>Bob</td>\n",
       "      <td>30</td>\n",
       "      <td>[1, 2, 3]</td>\n",
       "      <td>{'xz2': 2, 'xz1': 1}</td>\n",
       "      <td>False</td>\n",
       "      <td>2020-02-02 13:33:44</td>\n",
       "    </tr>\n",
       "  </tbody>\n",
       "</table>\n",
       "</div>"
      ],
      "text/plain": [
       "    Name  Score       List                  Dict   Bool            Datetime\n",
       "0  Alice     20  [1, 2, 3]  {'xz2': 2, 'xz1': 1}   True 2020-02-01 22:10:12\n",
       "1    Bob     30  [1, 2, 3]  {'xz2': 2, 'xz1': 1}  False 2020-02-02 13:33:44"
      ]
     },
     "execution_count": 79,
     "metadata": {},
     "output_type": "execute_result"
    }
   ],
   "source": [
    "import pandas\n",
    "\n",
    "pandas_df = df.toPandas()\n",
    "pandas_df"
   ]
  },
  {
   "cell_type": "code",
   "execution_count": 80,
   "metadata": {},
   "outputs": [
    {
     "name": "stdout",
     "output_type": "stream",
     "text": [
      "+-----+-----+---------+--------------------+-----+-------------------+\n",
      "| Name|Score|     List|                Dict| Bool|           Datetime|\n",
      "+-----+-----+---------+--------------------+-----+-------------------+\n",
      "|Alice|   20|[1, 2, 3]|[xz2 -> 2, xz1 -> 1]| true|2020-02-01 22:10:12|\n",
      "|  Bob|   30|[1, 2, 3]|[xz2 -> 2, xz1 -> 1]|false|2020-02-02 13:33:44|\n",
      "+-----+-----+---------+--------------------+-----+-------------------+\n",
      "\n"
     ]
    }
   ],
   "source": [
    "spark_df = sqlContext.createDataFrame(pandas_df).show()"
   ]
  },
  {
   "cell_type": "code",
   "execution_count": null,
   "metadata": {},
   "outputs": [],
   "source": []
  }
 ],
 "metadata": {
  "kernelspec": {
   "display_name": "Python 3",
   "language": "python",
   "name": "python3"
  },
  "language_info": {
   "codemirror_mode": {
    "name": "ipython",
    "version": 3
   },
   "file_extension": ".py",
   "mimetype": "text/x-python",
   "name": "python",
   "nbconvert_exporter": "python",
   "pygments_lexer": "ipython3",
   "version": "3.7.4"
  }
 },
 "nbformat": 4,
 "nbformat_minor": 4
}
